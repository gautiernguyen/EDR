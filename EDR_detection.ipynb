{
 "cells": [
  {
   "cell_type": "code",
   "execution_count": 263,
   "metadata": {
    "ExecuteTime": {
     "end_time": "2019-11-22T09:34:06.333943Z",
     "start_time": "2019-11-22T09:34:06.327839Z"
    },
    "code_folding": [
     0
    ]
   },
   "outputs": [],
   "source": [
    "#import cell\n",
    "import datetime\n",
    "import numpy as np\n",
    "import matplotlib.pyplot as plt\n",
    "import matplotlib.colors as colors\n",
    "import matplotlib.dates as mdates\n",
    "from sklearn.externals import joblib\n",
    "from scipy.signal import medfilt, find_peaks, peak_widths\n",
    "from astropy.constants import e as charge\n",
    "import pandas as pd\n",
    "import sys\n",
    "import glob\n",
    "from scipy.ndimage import gaussian_filter1d as gf\n",
    "sys.path.append('identification/')\n",
    "sys.path.append('reconnection/')\n",
    "sys.path.append('pyspace-fork2/analysis/')\n",
    "import mva\n",
    "import jets\n",
    "import event as evt\n",
    "import models\n",
    "import crossings_util as Xing\n",
    "import wind\n",
    "import postProcess as pp\n",
    "import make_data\n",
    "import spacepy.pycdf as pycdf"
   ]
  },
  {
   "cell_type": "markdown",
   "metadata": {},
   "source": [
    "## Basic function"
   ]
  },
  {
   "cell_type": "code",
   "execution_count": 2,
   "metadata": {
    "ExecuteTime": {
     "end_time": "2019-11-21T12:47:34.083213Z",
     "start_time": "2019-11-21T12:47:34.075490Z"
    },
    "code_folding": [
     0
    ]
   },
   "outputs": [],
   "source": [
    "#function used to plot the raw data of a given spacecraft\n",
    "def plot_EDR_interval(event, data):\n",
    "    fig, axarr = plt.subplots(nrows = 9, ncols=1, figsize=(10,15))\n",
    "    \n",
    "    axarr[0].plot(data[event.begin:event.end].Bx)\n",
    "    axarr[1].plot(data[event.begin:event.end].By)\n",
    "    axarr[2].plot(data[event.begin:event.end].Bz)\n",
    "    \n",
    "    axarr[3].plot(data[event.begin:event.end].Vex)\n",
    "    axarr[4].plot(data[event.begin:event.end].Vey)\n",
    "    axarr[5].plot(data[event.begin:event.end].Vez)\n",
    "    \n",
    "    axarr[6].plot(data[event.begin:event.end].Jx)\n",
    "    axarr[7].plot(data[event.begin:event.end].Jy)\n",
    "    axarr[8].plot(data[event.begin:event.end].Jz)\n",
    "    \n",
    "    return fig, axarr"
   ]
  },
  {
   "cell_type": "code",
   "execution_count": 3,
   "metadata": {
    "ExecuteTime": {
     "end_time": "2019-11-21T12:47:35.559792Z",
     "start_time": "2019-11-21T12:47:35.534110Z"
    },
    "code_folding": [
     0
    ]
   },
   "outputs": [
    {
     "name": "stderr",
     "output_type": "stream",
     "text": [
      "/opt/venv/lib/python3.7/site-packages/ipykernel_launcher.py:10: SettingWithCopyWarning: \n",
      "A value is trying to be set on a copy of a slice from a DataFrame\n",
      "\n",
      "See the caveats in the documentation: http://pandas.pydata.org/pandas-docs/stable/user_guide/indexing.html#returning-a-view-versus-a-copy\n",
      "  # Remove the CWD from sys.path while we load stuff.\n",
      "/opt/venv/lib/python3.7/site-packages/ipykernel_launcher.py:11: SettingWithCopyWarning: \n",
      "A value is trying to be set on a copy of a slice from a DataFrame\n",
      "\n",
      "See the caveats in the documentation: http://pandas.pydata.org/pandas-docs/stable/user_guide/indexing.html#returning-a-view-versus-a-copy\n",
      "  # This is added back by InteractiveShellApp.init_path()\n",
      "/opt/venv/lib/python3.7/site-packages/ipykernel_launcher.py:12: SettingWithCopyWarning: \n",
      "A value is trying to be set on a copy of a slice from a DataFrame\n",
      "\n",
      "See the caveats in the documentation: http://pandas.pydata.org/pandas-docs/stable/user_guide/indexing.html#returning-a-view-versus-a-copy\n",
      "  if sys.path[0] == '':\n"
     ]
    }
   ],
   "source": [
    "#read  the webster EDR list and turn it into an event list\n",
    "\n",
    "df = pd.read_csv('EDR_intervals.csv', header=None)\n",
    "\n",
    "df['hours'] = 0\n",
    "df['minutes'] = 0\n",
    "df['seconds'] = 0\n",
    "\n",
    "\n",
    "for i in range(len(df)):\n",
    "    time = df[4][i].split(sep=':')\n",
    "    df.hours[i] = float(time[0].strip()[1:])\n",
    "    df.minutes[i] = float(time[1])\n",
    "    df.seconds[i] = float(time[2][:-1])\n",
    "\n",
    "EDR_intervals = []\n",
    "\n",
    "for i in range(len(df)):\n",
    "    date = datetime.datetime(df[0][i], df[1][i], df[2][i],df.hours[i], df.minutes[i], df.seconds[i])\n",
    "    delta = datetime.timedelta(seconds = 40)\n",
    "    event = evt.Event(date-delta, date+delta)\n",
    "    EDR_intervals.append(event)"
   ]
  },
  {
   "cell_type": "code",
   "execution_count": 5,
   "metadata": {
    "ExecuteTime": {
     "end_time": "2019-11-21T12:47:37.271749Z",
     "start_time": "2019-11-21T12:47:37.267943Z"
    }
   },
   "outputs": [
    {
     "data": {
      "text/plain": [
       "32"
      ]
     },
     "execution_count": 5,
     "metadata": {},
     "output_type": "execute_result"
    }
   ],
   "source": [
    "len(EDR_intervals)"
   ]
  },
  {
   "cell_type": "code",
   "execution_count": 6,
   "metadata": {
    "ExecuteTime": {
     "end_time": "2019-11-21T12:47:42.450791Z",
     "start_time": "2019-11-21T12:47:42.448426Z"
    },
    "scrolled": false
   },
   "outputs": [],
   "source": [
    "spacecrafts = [1,2,3,4]"
   ]
  },
  {
   "cell_type": "code",
   "execution_count": 258,
   "metadata": {
    "ExecuteTime": {
     "end_time": "2019-11-22T09:29:30.770560Z",
     "start_time": "2019-11-22T09:29:30.760694Z"
    },
    "code_folding": [
     0,
     19
    ]
   },
   "outputs": [],
   "source": [
    "def get_cdf_file(path, sc, instrument, method, mode, date):\n",
    "    '''\n",
    "    For a given spacecraft, instrument and a path where files are stocked, return the list of cdf associated to a certain date\n",
    "    '''\n",
    "    \n",
    "    directory = path+ '/mms{sc}/{instr}/{mode}/l2/{meth}/{yr}/{month:02d}/{day:02d}/'.format(sc=sc, instr=instrument,\n",
    "                                                                                          mode=mode, meth=method,\n",
    "                                                                                          yr = date.year,\n",
    "                                                                                          month = date.month,\n",
    "                                                                                          day = date.day)\n",
    "    \n",
    "    name_file = 'mms{sc}_{instr}_{mode}_l2_{meth}_{yr}{month:02d}{day:02d}{hour:02d}'.format(sc=sc, instr=instrument,\n",
    "                                                                                          mode=mode, meth=method,\n",
    "                                                                                          yr = date.year,\n",
    "                                                                                          month = date.month,\n",
    "                                                                                          day = date.day,\n",
    "                                                                                          hour = date.hour)\n",
    "    \n",
    "    \n",
    "    if method is None:\n",
    "        directory = path+ '/mms{sc}/{instr}/{mode}/l2/{yr}/{month:02d}/{day:02d}/'.format(sc=sc, instr=instrument,\n",
    "                                                                                          mode=mode,\n",
    "                                                                                          yr = date.year,\n",
    "                                                                                          month = date.month,\n",
    "                                                                                          day = date.day)\n",
    "    \n",
    "        name_file = 'mms{sc}_{instr}_{mode}_l2_{yr}{month:02d}{day:02d}{hour:02d}'.format(sc=sc, instr=instrument,\n",
    "                                                                                          mode=mode,\n",
    "                                                                                          yr = date.year,\n",
    "                                                                                          month = date.month,\n",
    "                                                                                          day = date.day,\n",
    "                                                                                          hour = date.hour)\n",
    "    \n",
    "        \n",
    "    potential_files = sorted(glob.glob(directory+name_file+'*.cdf'))[::-1]\n",
    "    \n",
    "\n",
    "    for file in potential_files:\n",
    "        if int(file.split('_')[-2][-4:-2]) <= date.minute:\n",
    "            return file\n",
    "    \n",
    "    return None"
   ]
  },
  {
   "cell_type": "code",
   "execution_count": 261,
   "metadata": {
    "ExecuteTime": {
     "end_time": "2019-11-22T09:33:41.022318Z",
     "start_time": "2019-11-22T09:33:30.122700Z"
    },
    "code_folding": []
   },
   "outputs": [],
   "source": [
    "#get list of cdf for each instrument and sc\n",
    "path_of_cdf_des1  = [None for i in range(len(EDR_intervals))]\n",
    "path_of_cdf_des2 = [None for i in range(len(EDR_intervals))]\n",
    "path_of_cdf_des3 = [None for i in range(len(EDR_intervals))]\n",
    "path_of_cdf_des4 = [None for i in range(len(EDR_intervals))]\n",
    "\n",
    "\n",
    "\n",
    "path_of_cdf_dis1 = [None for i in range(len(EDR_intervals))]\n",
    "path_of_cdf_dis2 = [None for i in range(len(EDR_intervals))]\n",
    "path_of_cdf_dis3 = [None for i in range(len(EDR_intervals))]\n",
    "path_of_cdf_dis4 = [None for i in range(len(EDR_intervals))]\n",
    "\n",
    "\n",
    "path_of_cdf_fgm1 = [None for i in range(len(EDR_intervals))]\n",
    "path_of_cdf_fgm2 = [None for i in range(len(EDR_intervals))]\n",
    "path_of_cdf_fgm3 = [None for i in range(len(EDR_intervals))]\n",
    "path_of_cdf_fgm4 = [None for i in range(len(EDR_intervals))]\n",
    "\n",
    "\n",
    "\n",
    "for i, cdflist in enumerate([path_of_cdf_des1, path_of_cdf_des2, path_of_cdf_des3, path_of_cdf_des4]):\n",
    "    for j, event in enumerate(EDR_intervals):\n",
    "        cdflist[j] = get_cdf_file('/mammouth', i+1, 'fpi', 'des-moms', 'brst', event.begin)\n",
    "        \n",
    "        \n",
    "for i, cdflist in enumerate([path_of_cdf_dis1, path_of_cdf_dis2, path_of_cdf_dis3, path_of_cdf_dis4]):\n",
    "    for j, event in enumerate(EDR_intervals):\n",
    "        cdflist[j] = get_cdf_file('/mammouth', i+1, 'fpi', 'dis-moms', 'brst', event.begin)\n",
    "        \n",
    "for i, cdflist in enumerate([path_of_cdf_fgm1, path_of_cdf_fgm2, path_of_cdf_fgm3, path_of_cdf_fgm4]):\n",
    "    for j, event in enumerate(EDR_intervals):\n",
    "        cdflist[j] = get_cdf_file('/mammouth', i+1, 'fgm', None, 'brst', event.begin)"
   ]
  },
  {
   "cell_type": "code",
   "execution_count": 266,
   "metadata": {
    "ExecuteTime": {
     "end_time": "2019-11-22T09:39:11.484067Z",
     "start_time": "2019-11-22T09:39:11.447461Z"
    },
    "code_folding": [
     0
    ]
   },
   "outputs": [],
   "source": [
    "def make_raw_dataset(index_to_look):\n",
    "    cdf_des = pycdf.CDF(path_of_cdf_des1[index_to_look])\n",
    "    cdf_dis = pycdf.CDF(path_of_cdf_dis1[index_to_look])\n",
    "    cdf_fgm = pycdf.CDF(path_of_cdf_fgm1[index_to_look])\n",
    "\n",
    "\n",
    "\n",
    "    fpi_des = pd.DataFrame(index = cdf_des['Epoch'][:],\n",
    "                           data = {'Vex': cdf_des['mms1_des_bulkv_gse_brst'][:, 0],\n",
    "                                   'Vey': cdf_des['mms1_des_bulkv_gse_brst'][:, 1],\n",
    "                                   'Vez': cdf_des['mms1_des_bulkv_gse_brst'][:, 2],\n",
    "                                   'Ne':  cdf_des['mms1_des_numberdensity_brst'][:],\n",
    "                                   'Temp':cdf_des['mms1_des_tempperp_brst'][:]})\n",
    "\n",
    "    fpi_dis = pd.DataFrame(index = cdf_dis['Epoch'][:],\n",
    "                           data = {'Vix':cdf_dis['mms1_dis_bulkv_gse_brst'][:, 0],\n",
    "                                   'Viy':cdf_dis['mms1_dis_bulkv_gse_brst'][:, 1],\n",
    "                                   'Viz':cdf_dis['mms1_dis_bulkv_gse_brst'][:, 2],\n",
    "                                   'Ni': cdf_dis['mms1_dis_numberdensity_brst'][:]})\n",
    "\n",
    "    fgm = pd.DataFrame(index = cdf_fgm['Epoch'][:],\n",
    "                       data = {'Bx':cdf_fgm['mms1_fgm_b_gse_brst_l2'][:, 0],\n",
    "                               'By':cdf_fgm['mms1_fgm_b_gse_brst_l2'][:, 1],\n",
    "                               'Bz':cdf_fgm['mms1_fgm_b_gse_brst_l2'][:, 2]})\n",
    "\n",
    "    pos = pd.DataFrame(index = cdf_fgm['Epoch_state'][:],\n",
    "                      data = {'X':cdf_fgm['mms1_fgm_r_gse_brst_l2'][:, 0],\n",
    "                              'Y':cdf_fgm['mms1_fgm_r_gse_brst_l2'][:, 1],\n",
    "                              'Z':cdf_fgm['mms1_fgm_r_gse_brst_l2'][:, 2]})\n",
    "\n",
    "    dataset1 = make_data.setSameTimeScale([fpi_des, fpi_dis, fgm], ref=0)\n",
    "\n",
    "\n",
    "    cdf_des = pycdf.CDF(path_of_cdf_des2[index_to_look])\n",
    "    cdf_dis = pycdf.CDF(path_of_cdf_dis2[index_to_look])\n",
    "    cdf_fgm = pycdf.CDF(path_of_cdf_fgm2[index_to_look])\n",
    "\n",
    "\n",
    "    fpi_des = pd.DataFrame(index = cdf_des['Epoch'][:],\n",
    "                           data = {'Vex': cdf_des['mms2_des_bulkv_gse_brst'][:, 0],\n",
    "                                   'Vey': cdf_des['mms2_des_bulkv_gse_brst'][:, 1],\n",
    "                                   'Vez': cdf_des['mms2_des_bulkv_gse_brst'][:, 2],\n",
    "                                   'Ne':  cdf_des['mms2_des_numberdensity_brst'][:],\n",
    "                                   'Temp':cdf_des['mms2_des_tempperp_brst'][:]})\n",
    "\n",
    "    fpi_dis = pd.DataFrame(index = cdf_dis['Epoch'][:],\n",
    "                           data = {'Vix':cdf_dis['mms2_dis_bulkv_gse_brst'][:, 0],\n",
    "                                   'Viy':cdf_dis['mms2_dis_bulkv_gse_brst'][:, 1],\n",
    "                                   'Viz':cdf_dis['mms2_dis_bulkv_gse_brst'][:, 2],\n",
    "                                   'Ni': cdf_dis['mms2_dis_numberdensity_brst'][:]})\n",
    "\n",
    "    fgm = pd.DataFrame(index = cdf_fgm['Epoch'][:],\n",
    "                       data = {'Bx':cdf_fgm['mms2_fgm_b_gse_brst_l2'][:, 0],\n",
    "                               'By':cdf_fgm['mms2_fgm_b_gse_brst_l2'][:, 1],\n",
    "                               'Bz':cdf_fgm['mms2_fgm_b_gse_brst_l2'][:, 2]})\n",
    "\n",
    "    pos = pd.DataFrame(index = cdf_fgm['Epoch_state'][:],\n",
    "                      data = {'X':cdf_fgm['mms2_fgm_r_gse_brst_l2'][:, 0],\n",
    "                              'Y':cdf_fgm['mms2_fgm_r_gse_brst_l2'][:, 1],\n",
    "                              'Z':cdf_fgm['mms2_fgm_r_gse_brst_l2'][:, 2]})\n",
    "\n",
    "    dataset2 = make_data.setSameTimeScale([fpi_des, fpi_dis, fgm], ref=0)\n",
    "\n",
    "\n",
    "    cdf_des = pycdf.CDF(path_of_cdf_des3[index_to_look])\n",
    "    cdf_dis = pycdf.CDF(path_of_cdf_dis3[index_to_look])\n",
    "    cdf_fgm = pycdf.CDF(path_of_cdf_fgm3[index_to_look])\n",
    "\n",
    "\n",
    "\n",
    "    fpi_des = pd.DataFrame(index = cdf_des['Epoch'][:],\n",
    "                           data = {'Vex': cdf_des['mms3_des_bulkv_gse_brst'][:, 0],\n",
    "                                   'Vey': cdf_des['mms3_des_bulkv_gse_brst'][:, 1],\n",
    "                                   'Vez': cdf_des['mms3_des_bulkv_gse_brst'][:, 2],\n",
    "                                   'Ne':  cdf_des['mms3_des_numberdensity_brst'][:],\n",
    "                                   'Temp':cdf_des['mms3_des_tempperp_brst'][:]})\n",
    "\n",
    "    fpi_dis = pd.DataFrame(index = cdf_dis['Epoch'][:],\n",
    "                           data = {'Vix':cdf_dis['mms3_dis_bulkv_gse_brst'][:, 0],\n",
    "                                   'Viy':cdf_dis['mms3_dis_bulkv_gse_brst'][:, 1],\n",
    "                                   'Viz':cdf_dis['mms3_dis_bulkv_gse_brst'][:, 2],\n",
    "                                   'Ni': cdf_dis['mms3_dis_numberdensity_brst'][:]})\n",
    "\n",
    "    fgm = pd.DataFrame(index = cdf_fgm['Epoch'][:],\n",
    "                       data = {'Bx':cdf_fgm['mms3_fgm_b_gse_brst_l2'][:, 0],\n",
    "                               'By':cdf_fgm['mms3_fgm_b_gse_brst_l2'][:, 1],\n",
    "                               'Bz':cdf_fgm['mms3_fgm_b_gse_brst_l2'][:, 2]})\n",
    "\n",
    "    pos = pd.DataFrame(index = cdf_fgm['Epoch_state'][:],\n",
    "                      data = {'X':cdf_fgm['mms3_fgm_r_gse_brst_l2'][:, 0],\n",
    "                              'Y':cdf_fgm['mms3_fgm_r_gse_brst_l2'][:, 1],\n",
    "                              'Z':cdf_fgm['mms3_fgm_r_gse_brst_l2'][:, 2]})\n",
    "\n",
    "    dataset3 = make_data.setSameTimeScale([fpi_des, fpi_dis, fgm], ref=0)\n",
    "\n",
    "\n",
    "\n",
    "    cdf_des = pycdf.CDF(path_of_cdf_des4[index_to_look])\n",
    "    cdf_dis = pycdf.CDF(path_of_cdf_dis4[index_to_look])\n",
    "    cdf_fgm = pycdf.CDF(path_of_cdf_fgm4[index_to_look])\n",
    "\n",
    "\n",
    "    fpi_des = pd.DataFrame(index = cdf_des['Epoch'][:],\n",
    "                           data = {'Vex': cdf_des['mms4_des_bulkv_gse_brst'][:, 0],\n",
    "                                   'Vey': cdf_des['mms4_des_bulkv_gse_brst'][:, 1],\n",
    "                                   'Vez': cdf_des['mms4_des_bulkv_gse_brst'][:, 2],\n",
    "                                   'Ne':  cdf_des['mms4_des_numberdensity_brst'][:],\n",
    "                                   'Temp':cdf_des['mms4_des_tempperp_brst'][:]})\n",
    "\n",
    "    fpi_dis = pd.DataFrame(index = cdf_dis['Epoch'][:],\n",
    "                           data = {'Vix':cdf_dis['mms4_dis_bulkv_gse_brst'][:, 0],\n",
    "                                   'Viy':cdf_dis['mms4_dis_bulkv_gse_brst'][:, 1],\n",
    "                                   'Viz':cdf_dis['mms4_dis_bulkv_gse_brst'][:, 2],\n",
    "                                   'Ni': cdf_dis['mms4_dis_numberdensity_brst'][:]})\n",
    "\n",
    "    fgm = pd.DataFrame(index = cdf_fgm['Epoch'][:],\n",
    "                       data = {'Bx':cdf_fgm['mms4_fgm_b_gse_brst_l2'][:, 0],\n",
    "                               'By':cdf_fgm['mms4_fgm_b_gse_brst_l2'][:, 1],\n",
    "                               'Bz':cdf_fgm['mms4_fgm_b_gse_brst_l2'][:, 2]})\n",
    "\n",
    "    pos = pd.DataFrame(index = cdf_fgm['Epoch_state'][:],\n",
    "                      data = {'X':cdf_fgm['mms4_fgm_r_gse_brst_l2'][:, 0],\n",
    "                              'Y':cdf_fgm['mms4_fgm_r_gse_brst_l2'][:, 1],\n",
    "                              'Z':cdf_fgm['mms4_fgm_r_gse_brst_l2'][:, 2]})\n",
    "\n",
    "    dataset4 = make_data.setSameTimeScale([fpi_des, fpi_dis, fgm], ref=0)\n",
    "    \n",
    "    for df in [dataset1, dataset2, dataset3, dataset4]:\n",
    "        df['Jx'] = charge.value*(df.Ni*df.Vix-df.Ne*df.Vex)\n",
    "        df['Jy'] = charge.value*(df.Ni*df.Viy-df.Ne*df.Vey)\n",
    "        df['Jz'] = charge.value*(df.Ni*df.Viz-df.Ne*df.Vez)\n",
    "        \n",
    "    datasets_sc = [dataset1, dataset2, dataset3, dataset4]\n",
    "\n",
    "    for i in range(4):\n",
    "        for name in datasets_sc[i].columns:\n",
    "            datasets_sc[i].rename(columns={name: name+str(i+1)}, inplace=True)\n",
    "    \n",
    "    return datasets_sc"
   ]
  },
  {
   "cell_type": "code",
   "execution_count": 272,
   "metadata": {
    "ExecuteTime": {
     "end_time": "2019-11-22T09:52:42.749093Z",
     "start_time": "2019-11-22T09:52:42.732516Z"
    },
    "code_folding": []
   },
   "outputs": [],
   "source": [
    "def make_global_dataset(datasets_list):\n",
    "    ultimate_dataset = make_data.setSameTimeScale(datasets_list, ref=0)\n",
    "    \n",
    "    ultimate_dataset['V1'] = np.sqrt(ultimate_dataset.Vex1**2+ultimate_dataset.Vey1**2+ultimate_dataset.Vez1**2)\n",
    "    ultimate_dataset['V2'] = np.sqrt(ultimate_dataset.Vex2**2+ultimate_dataset.Vey2**2+ultimate_dataset.Vez2**2)\n",
    "    ultimate_dataset['V3'] = np.sqrt(ultimate_dataset.Vex3**2+ultimate_dataset.Vey3**2+ultimate_dataset.Vez3**2)\n",
    "    ultimate_dataset['V4'] = np.sqrt(ultimate_dataset.Vex4**2+ultimate_dataset.Vey4**2+ultimate_dataset.Vez4**2)\n",
    "\n",
    "\n",
    "    ultimate_dataset['B1'] = np.sqrt(ultimate_dataset.Bx1**2+ultimate_dataset.By1**2+ultimate_dataset.Bz1**2)\n",
    "    ultimate_dataset['B2'] = np.sqrt(ultimate_dataset.Bx2**2+ultimate_dataset.By2**2+ultimate_dataset.Bz2**2)\n",
    "    ultimate_dataset['B3'] = np.sqrt(ultimate_dataset.Bx3**2+ultimate_dataset.By3**2+ultimate_dataset.Bz3**2)\n",
    "    ultimate_dataset['B4'] = np.sqrt(ultimate_dataset.Bx4**2+ultimate_dataset.By4**2+ultimate_dataset.Bz4**2)\n",
    "\n",
    "\n",
    "    ultimate_dataset['J1'] = np.sqrt(ultimate_dataset.Jx1**2+ultimate_dataset.Jy1**2+ultimate_dataset.Jz1**2)\n",
    "    ultimate_dataset['J2'] = np.sqrt(ultimate_dataset.Jx2**2+ultimate_dataset.Jy2**2+ultimate_dataset.Jz2**2)\n",
    "    ultimate_dataset['J3'] = np.sqrt(ultimate_dataset.Jx3**2+ultimate_dataset.Jy3**2+ultimate_dataset.Jz3**2)\n",
    "    ultimate_dataset['J4'] = np.sqrt(ultimate_dataset.Jx4**2+ultimate_dataset.Jy4**2+ultimate_dataset.Jz4**2)\n",
    "    \n",
    "    \n",
    "    ultimate_dataset['std_bx'] = ultimate_dataset[['Bx1', 'Bx2', 'Bx3', 'Bx4']].std(axis=1)\n",
    "    ultimate_dataset['std_by'] = ultimate_dataset[['By1', 'By2', 'By3', 'By4']].std(axis=1)\n",
    "    ultimate_dataset['std_bz'] = ultimate_dataset[['Bz1', 'Bz2', 'Bz3', 'Bz4']].std(axis=1)\n",
    "\n",
    "    ultimate_dataset['std_vx'] = ultimate_dataset[['Vex1', 'Vex2', 'Vex3', 'Vex4']].std(axis=1)\n",
    "    ultimate_dataset['std_vy'] = ultimate_dataset[['Vey1', 'Vey2', 'Vey3', 'Vey4']].std(axis=1)\n",
    "    ultimate_dataset['std_vz'] = ultimate_dataset[['Vez1', 'Vez2', 'Vez3', 'Vez4']].std(axis=1)\n",
    "\n",
    "\n",
    "    ultimate_dataset['std_jx'] = ultimate_dataset[['Jx1', 'Jx2', 'Jx3', 'Jx4']].std(axis=1)\n",
    "    ultimate_dataset['std_jy'] = ultimate_dataset[['Jy1', 'Jy2', 'Jy3', 'Jy4']].std(axis=1)\n",
    "    ultimate_dataset['std_jz'] = ultimate_dataset[['Jz1', 'Jz2', 'Jz3', 'Jz4']].std(axis=1)\n",
    "\n",
    "\n",
    "\n",
    "    ultimate_dataset['std_V'] = ultimate_dataset[['V1', 'V2', 'V3', 'V4']].std(axis=1)\n",
    "    ultimate_dataset['std_B'] = ultimate_dataset[['B1', 'B2', 'B3', 'B4']].std(axis=1)\n",
    "    ultimate_dataset['std_J'] = ultimate_dataset[['J1', 'J2', 'J3', 'J4']].std(axis=1)\n",
    "\n",
    "    return ultimate_dataset"
   ]
  },
  {
   "cell_type": "code",
   "execution_count": 269,
   "metadata": {
    "ExecuteTime": {
     "end_time": "2019-11-22T09:48:45.592062Z",
     "start_time": "2019-11-22T09:48:45.586786Z"
    },
    "code_folding": [
     0
    ]
   },
   "outputs": [],
   "source": [
    "def gaussianfit(serie):\n",
    "\n",
    "    spec = {\n",
    "     'time': np.arange(0, len(serie)),\n",
    "     'y': medfilt(serie, 151),\n",
    "     'model': [\n",
    "        {'type': 'GaussianModel'},\n",
    "        {'type': 'GaussianModel'},\n",
    "        {'type': 'GaussianModel'},\n",
    "        {'type': 'GaussianModel'},\n",
    "        {'type': 'GaussianModel'},\n",
    "        {'type': 'GaussianModel'}\n",
    "     ]\n",
    "    }\n",
    "    model, params = pp._generate_model(spec)\n",
    "    output = model.fit(spec['y'], params, x=spec['time'])\n",
    "    fitted_integral = output.best_fit\n",
    "    \n",
    "    return fitted_integral"
   ]
  },
  {
   "cell_type": "markdown",
   "metadata": {},
   "source": [
    "## make plot for each event"
   ]
  },
  {
   "cell_type": "code",
   "execution_count": 276,
   "metadata": {
    "ExecuteTime": {
     "end_time": "2019-11-22T10:56:58.071039Z",
     "start_time": "2019-11-22T09:56:32.038569Z"
    },
    "code_folding": [],
    "scrolled": false
   },
   "outputs": [],
   "source": [
    "#plot the main physical params and the EDR feature for a given list of intervals\n",
    "\n",
    "for i, event in enumerate(EDR_intervals):\n",
    "    raw_datasets = make_raw_dataset(i)\n",
    "    global_dataset = make_global_dataset(raw_datasets)\n",
    "    \n",
    "    df_std = global_dataset[['std_bx', 'std_by', 'std_bz', 'std_vx', 'std_vy', 'std_vz',\n",
    "                               'std_jx', 'std_jy', 'std_jz', 'std_V', 'std_B', 'std_J']].copy()\n",
    "    \n",
    "    \n",
    "    for name in df_std.columns:\n",
    "        df_std[name] = gf(df_std[name], 3)\n",
    "        \n",
    "    for name in df_std.columns:\n",
    "        df_std[name] = df_std[name]/df_std[name].max()\n",
    "        \n",
    "    EDR_feature = df_std.std_B*df_std.std_V*df_std.std_J\n",
    "    \n",
    "    fitted_EDR_feature = pd.Series(index = EDR_feature.index, data = medfilt(EDR_feature, 151))\n",
    "    \n",
    "    \n",
    "    pos = find_peaks(fitted_EDR_feature)[0]\n",
    "    width = peak_widths(fitted_EDR_feature, pos)\n",
    "    ref_index = fitted_EDR_feature.index\n",
    "    EDR_candidates = [evt.Event(ref_index[int(width[2][x])], ref_index[int(width[3][x])]) for x in np.arange(0, len(width[0]))]\n",
    "    \n",
    "    \n",
    "    EDR_candidates = pp.gatherAsEventEnd(EDR_candidates, 5/3600)\n",
    "\n",
    "    for sc, df in enumerate(raw_datasets):\n",
    "        fig, axarr = plt.subplots(nrows=5, figsize=(20,25))\n",
    "        \n",
    "        axarr[0].plot(df['Ne'+str(sc+1)], color='k')\n",
    "        \n",
    "        \n",
    "        axarr[1].plot(df['Bx'+str(sc+1)], color='k')\n",
    "        axarr[1].plot(df['By'+str(sc+1)], color='b')\n",
    "        axarr[1].plot(df['Bz'+str(sc+1)], color='r')\n",
    "        \n",
    "        axarr[2].plot(df['Vex'+str(sc+1)], color='k')\n",
    "        axarr[2].plot(df['Vey'+str(sc+1)], color='b')\n",
    "        axarr[2].plot(df['Vez'+str(sc+1)], color='r')   \n",
    "        \n",
    "        \n",
    "        axarr[3].plot(df['Jx'+str(sc+1)], color='k')\n",
    "        axarr[3].plot(df['Jy'+str(sc+1)], color='b')\n",
    "        axarr[3].plot(df['Jz'+str(sc+1)], color='r') \n",
    "                \n",
    "        axarr[4].plot(fitted_EDR_feature)\n",
    "        axarr[4].set_ylim(0, 0.13)\n",
    "        \n",
    "        for ax in axarr:\n",
    "            for elt in EDR_candidates:\n",
    "                ax.axvspan(elt.begin,elt.end, color='g', alpha=0.2, ymax=0.5)\n",
    "\n",
    "            ax.axvspan(event.begin,event.end, color='r', alpha=0.2, ymin=0.5)\n",
    "\n",
    "        plt.savefig('EDR/'+str(event.begin)+' '+str(sc+1)+'.png')\n",
    "        plt.close()"
   ]
  },
  {
   "cell_type": "markdown",
   "metadata": {
    "ExecuteTime": {
     "end_time": "2019-11-21T12:02:45.320880Z",
     "start_time": "2019-11-21T12:02:45.317915Z"
    }
   },
   "source": [
    "## Detection on unknown intervals"
   ]
  },
  {
   "cell_type": "code",
   "execution_count": 277,
   "metadata": {
    "ExecuteTime": {
     "end_time": "2019-11-22T13:03:47.026369Z",
     "start_time": "2019-11-22T13:03:46.960641Z"
    }
   },
   "outputs": [],
   "source": [
    "crossings_MMS = evt.read_csv('1hrLists/mms1Crossings.csv', index_col=0, header=0)"
   ]
  },
  {
   "cell_type": "code",
   "execution_count": 278,
   "metadata": {
    "ExecuteTime": {
     "end_time": "2019-11-22T13:03:47.658697Z",
     "start_time": "2019-11-22T13:03:47.655826Z"
    }
   },
   "outputs": [],
   "source": [
    "crossings_MMS = [x for x in crossings_MMS if x.begin.year==2015]"
   ]
  },
  {
   "cell_type": "code",
   "execution_count": 279,
   "metadata": {
    "ExecuteTime": {
     "end_time": "2019-11-22T13:03:49.517832Z",
     "start_time": "2019-11-22T13:03:49.515048Z"
    }
   },
   "outputs": [],
   "source": [
    "crossings_MMS = [x for x in crossings_MMS if x.begin.month==10]"
   ]
  },
  {
   "cell_type": "code",
   "execution_count": 280,
   "metadata": {
    "ExecuteTime": {
     "end_time": "2019-11-22T13:03:51.119737Z",
     "start_time": "2019-11-22T13:03:51.116524Z"
    }
   },
   "outputs": [
    {
     "data": {
      "text/plain": [
       "39"
      ]
     },
     "execution_count": 280,
     "metadata": {},
     "output_type": "execute_result"
    }
   ],
   "source": [
    "len(crossings_MMS)"
   ]
  },
  {
   "cell_type": "code",
   "execution_count": 192,
   "metadata": {
    "ExecuteTime": {
     "end_time": "2019-11-21T15:10:22.290223Z",
     "start_time": "2019-11-21T15:10:22.283994Z"
    }
   },
   "outputs": [],
   "source": [
    "\n",
    "\n",
    "list_of_cdf = []\n",
    "for i in range(31):\n",
    "    path = '/mammouth/mms1/fgm/brst/l2/2015/10/{day:02d}/mms'.format(day=i)\n",
    "    print(path)\n",
    "    list_of_cdf += glob.glob(path+'*.cdf')\n",
    "\n",
    "cdfs_to_keep = []\n",
    "\n",
    "\n",
    "for seum in list_of_cdf:\n",
    "\n",
    "    name = seum.split('_')[-2]\n",
    "\n",
    "    date = datetime.datetime(int(name[:4]), int(name[4:6]),int(name[6:8]), int(name[8:10]), int(name[10:12]))\n",
    "    \n",
    "    if max(evt.overlapWithList(evt.Event(date, date+datetime.timedelta(seconds=5)), crossings_MMS))>datetime.timedelta(0):\n",
    "           cdfs_to_keep.append(seum)\n",
    "\n",
    "\n",
    "EDR_intervals = []\n",
    "\n",
    "for seum in cdfs_to_keep:\n",
    "    name = seum.split('_')[-2]\n",
    "    date = datetime.datetime(int(name[:4]), int(name[4:6]),int(name[6:8]), int(name[8:10]), int(name[10:12]))    \n",
    "    \n",
    "    event = evt.Event(date+datetime.timedelta(seconds=15), date+datetime.timedelta(seconds=55))\n",
    "    EDR_intervals.append(event)"
   ]
  },
  {
   "cell_type": "code",
   "execution_count": null,
   "metadata": {
    "code_folding": []
   },
   "outputs": [],
   "source": [
    "#get list of cdf for each instrument and sc\n",
    "path_of_cdf_des1  = [None for i in range(len(EDR_intervals))]\n",
    "path_of_cdf_des2 = [None for i in range(len(EDR_intervals))]\n",
    "path_of_cdf_des3 = [None for i in range(len(EDR_intervals))]\n",
    "path_of_cdf_des4 = [None for i in range(len(EDR_intervals))]\n",
    "\n",
    "\n",
    "\n",
    "path_of_cdf_dis1 = [None for i in range(len(EDR_intervals))]\n",
    "path_of_cdf_dis2 = [None for i in range(len(EDR_intervals))]\n",
    "path_of_cdf_dis3 = [None for i in range(len(EDR_intervals))]\n",
    "path_of_cdf_dis4 = [None for i in range(len(EDR_intervals))]\n",
    "\n",
    "\n",
    "path_of_cdf_fgm1 = [None for i in range(len(EDR_intervals))]\n",
    "path_of_cdf_fgm2 = [None for i in range(len(EDR_intervals))]\n",
    "path_of_cdf_fgm3 = [None for i in range(len(EDR_intervals))]\n",
    "path_of_cdf_fgm4 = [None for i in range(len(EDR_intervals))]\n",
    "\n",
    "\n",
    "\n",
    "for i, cdflist in enumerate([path_of_cdf_des1, path_of_cdf_des2, path_of_cdf_des3, path_of_cdf_des4]):\n",
    "    for j, event in enumerate(EDR_intervals):\n",
    "        cdflist[j] = get_cdf_file('/mammouth', i+1, 'fpi', 'des-moms', 'brst', event.begin)\n",
    "        \n",
    "        \n",
    "for i, cdflist in enumerate([path_of_cdf_dis1, path_of_cdf_dis2, path_of_cdf_dis3, path_of_cdf_dis4]):\n",
    "    for j, event in enumerate(EDR_intervals):\n",
    "        cdflist[j] = get_cdf_file('/mammouth', i+1, 'fpi', 'dis-moms', 'brst', event.begin)\n",
    "        \n",
    "for i, cdflist in enumerate([path_of_cdf_fgm1, path_of_cdf_fgm2, path_of_cdf_fgm3, path_of_cdf_fgm4]):\n",
    "    for j, event in enumerate(EDR_intervals):\n",
    "        cdflist[j] = get_cdf_file('/mammouth', i+1, 'fgm', None, 'brst', event.begin)"
   ]
  },
  {
   "cell_type": "code",
   "execution_count": null,
   "metadata": {},
   "outputs": [],
   "source": []
  }
 ],
 "metadata": {
  "kernelspec": {
   "display_name": "Python 3",
   "language": "python",
   "name": "python3"
  },
  "language_info": {
   "codemirror_mode": {
    "name": "ipython",
    "version": 3
   },
   "file_extension": ".py",
   "mimetype": "text/x-python",
   "name": "python",
   "nbconvert_exporter": "python",
   "pygments_lexer": "ipython3",
   "version": "3.7.5"
  },
  "toc": {
   "base_numbering": 1,
   "nav_menu": {},
   "number_sections": true,
   "sideBar": true,
   "skip_h1_title": false,
   "title_cell": "Table of Contents",
   "title_sidebar": "Contents",
   "toc_cell": false,
   "toc_position": {},
   "toc_section_display": true,
   "toc_window_display": false
  },
  "varInspector": {
   "cols": {
    "lenName": 16,
    "lenType": 16,
    "lenVar": 40
   },
   "kernels_config": {
    "python": {
     "delete_cmd_postfix": "",
     "delete_cmd_prefix": "del ",
     "library": "var_list.py",
     "varRefreshCmd": "print(var_dic_list())"
    },
    "r": {
     "delete_cmd_postfix": ") ",
     "delete_cmd_prefix": "rm(",
     "library": "var_list.r",
     "varRefreshCmd": "cat(var_dic_list()) "
    }
   },
   "types_to_exclude": [
    "module",
    "function",
    "builtin_function_or_method",
    "instance",
    "_Feature"
   ],
   "window_display": false
  }
 },
 "nbformat": 4,
 "nbformat_minor": 2
}
